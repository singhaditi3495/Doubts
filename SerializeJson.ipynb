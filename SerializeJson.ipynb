{
 "cells": [
  {
   "cell_type": "code",
   "execution_count": 2,
   "id": "d33c9a0e",
   "metadata": {},
   "outputs": [
    {
     "name": "stdout",
     "output_type": "stream",
     "text": [
      "[\"k1\", \"k2.k3\", \"k2.k4\", \"k2.k5.k6.k9\", \"k10\"]\n"
     ]
    }
   ],
   "source": [
    "import json\n",
    "\n",
    "def serialize_paths(data, parent_key='', separator='.'):\n",
    "    paths = []\n",
    "    if isinstance(data, dict):\n",
    "        for key, value in data.items():\n",
    "            new_key = f\"{parent_key}{separator}{key}\" if parent_key else key\n",
    "            paths.extend(serialize_paths(value, new_key, separator))\n",
    "    elif isinstance(data, list):\n",
    "        for index, value in enumerate(data):\n",
    "            new_key = f\"{parent_key}{separator}{index}\"\n",
    "            paths.extend(serialize_paths(value, new_key, separator))\n",
    "    else:\n",
    "        paths.append(parent_key)\n",
    "    \n",
    "    return paths\n",
    "\n",
    "# Example usage\n",
    "json_data = {\n",
    "    \"k1\": \"1234\",\n",
    "    \"k2\": {\n",
    "        \"k3\": \"123\",\n",
    "        \"k4\": \"abc\",\n",
    "        \"k5\": {\n",
    "            \"k6\": {\n",
    "                \"k9\": \"test\"\n",
    "            }\n",
    "        }\n",
    "    },\n",
    "    \"k10\": \"sddd\"\n",
    "}\n",
    "\n",
    "paths = serialize_paths(json_data)\n",
    "json_output = json.dumps(paths)\n",
    "print(json_output)\n"
   ]
  },
  {
   "cell_type": "code",
   "execution_count": null,
   "id": "e8453baf",
   "metadata": {},
   "outputs": [],
   "source": [
    "To serialize paths in JSON format, you can modify the serialize_paths function to return a JSON array \n",
    "instead of a list of strings. Updated code at the above\n",
    "\n",
    "The code above takes the input JSON data, serializes the paths using the serialize_paths function, \n",
    "and then converts the resulting paths list into a JSON array using json.dumps. Finally, the JSON array is printed as the output.\n",
    "\n",
    "In the provided example, the output would be:\n",
    "    \n",
    "[\"k1\", \"k2/k3\", \"k2/k4\", \"k2/k5/k6/k9\", \"k10\"]\n",
    "\n",
    "Each element in the JSON array represents a serialized path within the original JSON data.\n",
    "\n"
   ]
  }
 ],
 "metadata": {
  "kernelspec": {
   "display_name": "Python 3 (ipykernel)",
   "language": "python",
   "name": "python3"
  },
  "language_info": {
   "codemirror_mode": {
    "name": "ipython",
    "version": 3
   },
   "file_extension": ".py",
   "mimetype": "text/x-python",
   "name": "python",
   "nbconvert_exporter": "python",
   "pygments_lexer": "ipython3",
   "version": "3.9.7"
  }
 },
 "nbformat": 4,
 "nbformat_minor": 5
}
