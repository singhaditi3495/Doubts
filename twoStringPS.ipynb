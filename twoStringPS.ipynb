{
 "cells": [
  {
   "cell_type": "code",
   "execution_count": 1,
   "id": "a1f045f0",
   "metadata": {},
   "outputs": [
    {
     "name": "stdout",
     "output_type": "stream",
     "text": [
      "[True, True, False, True, True, True]\n"
     ]
    }
   ],
   "source": [
    "def check_order(P, S):\n",
    "    order_map = {char: index for index, char in enumerate(P)}\n",
    "    result = []\n",
    "    \n",
    "    for word in S:\n",
    "        prev_index = -1\n",
    "        is_ordered = True\n",
    "        \n",
    "        for char in word:\n",
    "            if char in order_map:\n",
    "                curr_index = order_map[char]\n",
    "                if curr_index < prev_index:\n",
    "                    is_ordered = False\n",
    "                    break\n",
    "                prev_index = curr_index\n",
    "        \n",
    "        result.append(is_ordered)\n",
    "    \n",
    "    return result\n",
    "\n",
    "# Example usage\n",
    "P = 'abc'\n",
    "S = ['ab', 'bbb', 'bca', 'aaa', 'abc', 'aac']\n",
    "\n",
    "output = check_order(P, S)\n",
    "print(output)\n"
   ]
  }
 ],
 "metadata": {
  "kernelspec": {
   "display_name": "Python 3 (ipykernel)",
   "language": "python",
   "name": "python3"
  },
  "language_info": {
   "codemirror_mode": {
    "name": "ipython",
    "version": 3
   },
   "file_extension": ".py",
   "mimetype": "text/x-python",
   "name": "python",
   "nbconvert_exporter": "python",
   "pygments_lexer": "ipython3",
   "version": "3.9.7"
  }
 },
 "nbformat": 4,
 "nbformat_minor": 5
}
